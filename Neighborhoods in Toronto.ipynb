{
 "cells": [
  {
   "cell_type": "markdown",
   "metadata": {},
   "source": [
    "# Neighborhoods in Toronto\n",
    "## Part 1: explore and cluster the neighborhoods in Toronto."
   ]
  },
  {
   "cell_type": "markdown",
   "metadata": {},
   "source": [
    "Use [BeautifulSoup](https://beautiful-soup-4.readthedocs.io/en/latest/) to scrape the [List of postal codes of Canada: M](https://en.wikipedia.org/wiki/List_of_postal_codes_of_Canada:_M) page and extract the data from the table into a padnas DataFrame. "
   ]
  },
  {
   "cell_type": "code",
   "execution_count": 1,
   "metadata": {},
   "outputs": [],
   "source": [
    "import pandas as pd\n",
    "import numpy as np\n",
    "from bs4 import BeautifulSoup\n",
    "import requests"
   ]
  },
  {
   "cell_type": "code",
   "execution_count": 2,
   "metadata": {},
   "outputs": [],
   "source": [
    "r  = requests.get(\"https://en.wikipedia.org/wiki/List_of_postal_codes_of_Canada:_M\")\n",
    "data = r.text\n",
    "soup = BeautifulSoup(data, 'html.parser')\n",
    "table = soup.table"
   ]
  },
  {
   "cell_type": "markdown",
   "metadata": {},
   "source": [
    "Preliminary analysis of the dataframe"
   ]
  },
  {
   "cell_type": "code",
   "execution_count": 3,
   "metadata": {},
   "outputs": [
    {
     "name": "stdout",
     "output_type": "stream",
     "text": [
      "  Postcode           Borough     Neighbourhood\n",
      "0      M1A      Not assigned      Not assigned\n",
      "1      M2A      Not assigned      Not assigned\n",
      "2      M3A        North York         Parkwoods\n",
      "3      M4A        North York  Victoria Village\n",
      "4      M5A  Downtown Toronto      Harbourfront\n",
      "(287, 3)\n"
     ]
    }
   ],
   "source": [
    "df = pd.read_html(str(table))[0]\n",
    "print(df.head())\n",
    "print(df.shape)"
   ]
  },
  {
   "cell_type": "markdown",
   "metadata": {},
   "source": [
    "Remove rows where Borough is 'Not Assigned',assign Borough value to Neighbourhood when 'Not Assigned' then join rows with the same Postcode "
   ]
  },
  {
   "cell_type": "code",
   "execution_count": 4,
   "metadata": {},
   "outputs": [],
   "source": [
    "df = df[df[\"Borough\"]!=\"Not assigned\"]\n",
    "df['Neighbourhood'] = np.where(df['Neighbourhood']=='Not assigned',df['Borough'], df['Neighbourhood'])\n",
    "df=df.groupby(['Postcode', 'Borough'])['Neighbourhood'].apply(','.join).reset_index()"
   ]
  },
  {
   "cell_type": "code",
   "execution_count": 5,
   "metadata": {},
   "outputs": [
    {
     "name": "stdout",
     "output_type": "stream",
     "text": [
      "(103, 3)\n"
     ]
    }
   ],
   "source": [
    "print(df.shape)"
   ]
  },
  {
   "cell_type": "markdown",
   "metadata": {},
   "source": [
    "# Neighborhoods in Toronto\n",
    "## Part 2: Use Geocoder or the csv to extract Latitude and Longitude from postal codes"
   ]
  },
  {
   "cell_type": "code",
   "execution_count": 6,
   "metadata": {},
   "outputs": [],
   "source": [
    "dfPC=pd.read_csv(\"https://cocl.us/Geospatial_data\")\n",
    "df[\"Latitude\"] = 0\n",
    "df[\"Longitude\"] = 0\n",
    "for postcode in df[\"Postcode\"]:\n",
    "    lat_lng_coords=dfPC[dfPC[\"Postal Code\"]==postcode][[\"Latitude\",\"Longitude\"]]\n",
    "    df.at[df[\"Postcode\"]==postcode,\"Latitude\"]=lat_lng_coords.iloc[0,0]\n",
    "    df.at[df[\"Postcode\"]==postcode,\"Longitude\"]=lat_lng_coords.iloc[0,1]"
   ]
  },
  {
   "cell_type": "code",
   "execution_count": 8,
   "metadata": {},
   "outputs": [
    {
     "name": "stdout",
     "output_type": "stream",
     "text": [
      "    Postcode      Borough                                      Neighbourhood  \\\n",
      "0        M1B  Scarborough                                      Rouge,Malvern   \n",
      "1        M1C  Scarborough               Highland Creek,Rouge Hill,Port Union   \n",
      "2        M1E  Scarborough                    Guildwood,Morningside,West Hill   \n",
      "3        M1G  Scarborough                                             Woburn   \n",
      "4        M1H  Scarborough                                          Cedarbrae   \n",
      "..       ...          ...                                                ...   \n",
      "98       M9N         York                                             Weston   \n",
      "99       M9P    Etobicoke                                          Westmount   \n",
      "100      M9R    Etobicoke  Kingsview Village,Martin Grove Gardens,Richvie...   \n",
      "101      M9V    Etobicoke  Albion Gardens,Beaumond Heights,Humbergate,Jam...   \n",
      "102      M9W    Etobicoke                                          Northwest   \n",
      "\n",
      "      Latitude  Longitude  \n",
      "0    43.806686 -79.194353  \n",
      "1    43.784535 -79.160497  \n",
      "2    43.763573 -79.188711  \n",
      "3    43.770992 -79.216917  \n",
      "4    43.773136 -79.239476  \n",
      "..         ...        ...  \n",
      "98   43.706876 -79.518188  \n",
      "99   43.696319 -79.532242  \n",
      "100  43.688905 -79.554724  \n",
      "101  43.739416 -79.588437  \n",
      "102  43.706748 -79.594054  \n",
      "\n",
      "[103 rows x 5 columns]\n",
      "(103, 5)\n"
     ]
    }
   ],
   "source": [
    "print(df)\n",
    "print(df.shape)"
   ]
  },
  {
   "cell_type": "code",
   "execution_count": null,
   "metadata": {},
   "outputs": [],
   "source": []
  }
 ],
 "metadata": {
  "kernelspec": {
   "display_name": "Python 3",
   "language": "python",
   "name": "python3"
  },
  "language_info": {
   "codemirror_mode": {
    "name": "ipython",
    "version": 3
   },
   "file_extension": ".py",
   "mimetype": "text/x-python",
   "name": "python",
   "nbconvert_exporter": "python",
   "pygments_lexer": "ipython3",
   "version": "3.7.4"
  }
 },
 "nbformat": 4,
 "nbformat_minor": 2
}
