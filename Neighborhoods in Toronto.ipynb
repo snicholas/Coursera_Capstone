{
 "cells": [
  {
   "cell_type": "markdown",
   "metadata": {},
   "source": [
    "# Neighborhoods in Toronto\n",
    "## Part 1: explore and cluster the neighborhoods in Toronto."
   ]
  },
  {
   "cell_type": "markdown",
   "metadata": {},
   "source": [
    "Use [BeautifulSoup](https://beautiful-soup-4.readthedocs.io/en/latest/) to scrape the [List of postal codes of Canada: M](https://en.wikipedia.org/wiki/List_of_postal_codes_of_Canada:_M) page and extract the data from the table into a padnas DataFrame. "
   ]
  },
  {
   "cell_type": "code",
   "execution_count": 1,
   "metadata": {},
   "outputs": [],
   "source": [
    "import pandas as pd\n",
    "import numpy as np\n",
    "from bs4 import BeautifulSoup\n",
    "import requests"
   ]
  },
  {
   "cell_type": "code",
   "execution_count": 2,
   "metadata": {},
   "outputs": [],
   "source": [
    "r  = requests.get(\"https://en.wikipedia.org/wiki/List_of_postal_codes_of_Canada:_M\")\n",
    "data = r.text\n",
    "soup = BeautifulSoup(data, 'html.parser')\n",
    "table = soup.table"
   ]
  },
  {
   "cell_type": "markdown",
   "metadata": {},
   "source": [
    "Preliminary analysis of the dataframe"
   ]
  },
  {
   "cell_type": "code",
   "execution_count": 3,
   "metadata": {},
   "outputs": [
    {
     "name": "stdout",
     "output_type": "stream",
     "text": [
      "  Postcode           Borough     Neighbourhood\n",
      "0      M1A      Not assigned      Not assigned\n",
      "1      M2A      Not assigned      Not assigned\n",
      "2      M3A        North York         Parkwoods\n",
      "3      M4A        North York  Victoria Village\n",
      "4      M5A  Downtown Toronto      Harbourfront\n",
      "(287, 3)\n"
     ]
    }
   ],
   "source": [
    "df = pd.read_html(str(table))[0]\n",
    "print(df.head())\n",
    "print(df.shape)"
   ]
  },
  {
   "cell_type": "markdown",
   "metadata": {},
   "source": [
    "Remove rows where Borough is 'Not Assigned',assign Borough value to Neighbourhood when 'Not Assigned' then join rows with the same Postcode "
   ]
  },
  {
   "cell_type": "code",
   "execution_count": 4,
   "metadata": {},
   "outputs": [],
   "source": [
    "df = df[df[\"Borough\"]!=\"Not assigned\"]\n",
    "df['Neighbourhood'] = np.where(df['Neighbourhood']=='Not assigned',df['Borough'], df['Neighbourhood'])\n",
    "df=df.groupby(['Postcode', 'Borough'])['Neighbourhood'].apply(','.join).reset_index()"
   ]
  },
  {
   "cell_type": "code",
   "execution_count": 5,
   "metadata": {},
   "outputs": [
    {
     "name": "stdout",
     "output_type": "stream",
     "text": [
      "(103, 3)\n"
     ]
    }
   ],
   "source": [
    "print(df.shape)"
   ]
  },
  {
   "cell_type": "code",
   "execution_count": null,
   "metadata": {},
   "outputs": [],
   "source": [
    "# Neighborhoods in Toronto\n",
    "## Part 2: explore and cluster the neighborhoods in Toronto."
   ]
  },
  {
   "cell_type": "code",
   "execution_count": 8,
   "metadata": {},
   "outputs": [
    {
     "name": "stdout",
     "output_type": "stream",
     "text": [
      "Collecting geocoder\n",
      "\u001b[?25l  Downloading https://files.pythonhosted.org/packages/4f/6b/13166c909ad2f2d76b929a4227c952630ebaf0d729f6317eb09cbceccbab/geocoder-1.38.1-py2.py3-none-any.whl (98kB)\n",
      "\u001b[K     |████████████████████████████████| 102kB 1.3MB/s ta 0:00:01\n",
      "\u001b[?25hCollecting ratelim (from geocoder)\n",
      "  Downloading https://files.pythonhosted.org/packages/f2/98/7e6d147fd16a10a5f821db6e25f192265d6ecca3d82957a4fdd592cad49c/ratelim-0.1.6-py2.py3-none-any.whl\n",
      "Requirement already satisfied: future in /home/snicholas/anaconda3/lib/python3.7/site-packages (from geocoder) (0.17.1)\n",
      "Requirement already satisfied: six in /home/snicholas/anaconda3/lib/python3.7/site-packages (from geocoder) (1.12.0)\n",
      "Requirement already satisfied: requests in /home/snicholas/anaconda3/lib/python3.7/site-packages (from geocoder) (2.22.0)\n",
      "Requirement already satisfied: click in /home/snicholas/anaconda3/lib/python3.7/site-packages (from geocoder) (7.0)\n",
      "Requirement already satisfied: decorator in /home/snicholas/anaconda3/lib/python3.7/site-packages (from ratelim->geocoder) (4.4.0)\n",
      "Requirement already satisfied: idna<2.9,>=2.5 in /home/snicholas/anaconda3/lib/python3.7/site-packages (from requests->geocoder) (2.8)\n",
      "Requirement already satisfied: urllib3!=1.25.0,!=1.25.1,<1.26,>=1.21.1 in /home/snicholas/anaconda3/lib/python3.7/site-packages (from requests->geocoder) (1.24.2)\n",
      "Requirement already satisfied: certifi>=2017.4.17 in /home/snicholas/anaconda3/lib/python3.7/site-packages (from requests->geocoder) (2019.9.11)\n",
      "Requirement already satisfied: chardet<3.1.0,>=3.0.2 in /home/snicholas/anaconda3/lib/python3.7/site-packages (from requests->geocoder) (3.0.4)\n",
      "Installing collected packages: ratelim, geocoder\n",
      "Successfully installed geocoder-1.38.1 ratelim-0.1.6\n"
     ]
    }
   ],
   "source": [
    "!pip install geocoder"
   ]
  },
  {
   "cell_type": "code",
   "execution_count": 45,
   "metadata": {},
   "outputs": [],
   "source": [
    "dfPC=pd.read_csv(\"https://cocl.us/Geospatial_data\")\n",
    "df[\"Latitude\"] = 0\n",
    "df[\"Longitude\"] = 0\n",
    "for postcode in df[\"Postcode\"]:\n",
    "    lat_lng_coords=dfPC[dfPC[\"Postal Code\"]==postcode][[\"Latitude\",\"Longitude\"]]\n",
    "    df.at[df[\"Postcode\"]==postcode,\"Latitude\"]=lat_lng_coords.iloc[0,0]\n",
    "    df.at[df[\"Postcode\"]==postcode,\"Longitude\"]=lat_lng_coords.iloc[0,1]"
   ]
  },
  {
   "cell_type": "code",
   "execution_count": null,
   "metadata": {},
   "outputs": [],
   "source": []
  },
  {
   "cell_type": "code",
   "execution_count": null,
   "metadata": {},
   "outputs": [],
   "source": []
  }
 ],
 "metadata": {
  "kernelspec": {
   "display_name": "Python 3",
   "language": "python",
   "name": "python3"
  },
  "language_info": {
   "codemirror_mode": {
    "name": "ipython",
    "version": 3
   },
   "file_extension": ".py",
   "mimetype": "text/x-python",
   "name": "python",
   "nbconvert_exporter": "python",
   "pygments_lexer": "ipython3",
   "version": "3.7.4"
  }
 },
 "nbformat": 4,
 "nbformat_minor": 2
}
